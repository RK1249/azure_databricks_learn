{
 "cells": [
  {
   "cell_type": "code",
   "execution_count": 0,
   "metadata": {
    "application/vnd.databricks.v1+cell": {
     "cellMetadata": {
      "byteLimit": 2048000,
      "implicitDf": true,
      "rowLimit": 10000
     },
     "inputWidgets": {},
     "nuid": "33607f63-3c16-4bb9-b55a-1e38071cefdb",
     "showTitle": false,
     "tableResultSettingsMap": {},
     "title": ""
    }
   },
   "outputs": [],
   "source": [
    "%sql\n",
    "USE CATALOG databricks_training;\n",
    "USE SCHEMA demo;\n"
   ]
  },
  {
   "cell_type": "code",
   "execution_count": 0,
   "metadata": {
    "application/vnd.databricks.v1+cell": {
     "cellMetadata": {
      "byteLimit": 2048000,
      "rowLimit": 10000
     },
     "inputWidgets": {},
     "nuid": "1b50097b-c8d0-451f-a634-e6f1e41dc14a",
     "showTitle": false,
     "tableResultSettingsMap": {},
     "title": ""
    }
   },
   "outputs": [],
   "source": [
    "%python\n",
    "spark.version"
   ]
  },
  {
   "cell_type": "code",
   "execution_count": 0,
   "metadata": {
    "application/vnd.databricks.v1+cell": {
     "cellMetadata": {
      "byteLimit": 2048000,
      "rowLimit": 10000
     },
     "inputWidgets": {},
     "nuid": "e0295784-bdba-4460-b373-d53f70d1a9d9",
     "showTitle": false,
     "tableResultSettingsMap": {},
     "title": ""
    }
   },
   "outputs": [],
   "source": [
    "spark.sql(\"SHOW TABLES\").show()"
   ]
  },
  {
   "cell_type": "code",
   "execution_count": 0,
   "metadata": {
    "application/vnd.databricks.v1+cell": {
     "cellMetadata": {
      "byteLimit": 2048000,
      "rowLimit": 10000
     },
     "inputWidgets": {},
     "nuid": "eb2803fe-4565-44bd-852a-5edae20014ba",
     "showTitle": false,
     "tableResultSettingsMap": {},
     "title": ""
    }
   },
   "outputs": [],
   "source": [
    "customers = spark.table(\"demo.customers\")\n",
    "# customers.count()\n",
    "orders = spark.table(\"demo.orders\")\n",
    "products = spark.table(\"demo.products\")"
   ]
  },
  {
   "cell_type": "code",
   "execution_count": 0,
   "metadata": {
    "application/vnd.databricks.v1+cell": {
     "cellMetadata": {
      "byteLimit": 2048000,
      "implicitDf": true,
      "rowLimit": 10000
     },
     "inputWidgets": {},
     "nuid": "c6d09ad0-93f4-4820-b3a8-555eb22f3ef0",
     "showTitle": false,
     "tableResultSettingsMap": {},
     "title": ""
    }
   },
   "outputs": [],
   "source": [
    "from pyspark.sql.functions import col\n",
    "\n",
    "cust_df = spark.table(\"demo.customers\")\n",
    "\n",
    "display(cust_df)\n",
    "\n",
    "cust_df.createOrReplaceTempView(\"cust\")\n",
    "\n",
    "customers with name\n",
    "\n",
    "cust_df.filter(\"name = 'Kathy Ross'\").show()\n",
    "cust_df.where(\"name = 'Kathy Ross'\").show()\n",
    "cust_df.filter(col(\"name\") == 'Kathy Ross').show()\n",
    "cust_df.where(col(\"name\") == 'Kathy Ross').show()\n",
    "spark.sql(\"select * from cust where name = 'Kathy Ross'\").show()\n",
    "\n",
    "customers joined on a date\n",
    "\n",
    "cust_df.filter(\"join_date = '2025-05-29'\").show()\n",
    "cust_df.filter(col(\"join_date\") == '2025-05-29').show()\n",
    "cust_df.where(\"join_date = '2025-05-29'\").show()\n",
    "cust_df.where(col(\"join_date\") == '2025-05-29').show()\n",
    "spark.sql(\"select * from cust where join_date = '2025-05-29'\").show()\n",
    "\n",
    "customers joined between dates\n",
    "\n",
    "cust_df.filter(col(\"join_date\").between('2025-05-01','2025-05-30')).show()\n",
    "cust_df.where(col(\"join_date\").between('2025-05-01','2025-05-30')).show()\n",
    "cust_df.filter(\"join_date between '2025-05-01' and '2025-05-30'\").show()\n",
    "cust_df.where(\"join_date between '2025-05-01' and '2025-05-30'\").show()\n",
    "spark.sql(\"select * from cust where join_date between '2025-05-01' and '2025-05-30'\").show()\n",
    "\n",
    "\n"
   ]
  },
  {
   "cell_type": "code",
   "execution_count": 0,
   "metadata": {
    "application/vnd.databricks.v1+cell": {
     "cellMetadata": {
      "byteLimit": 2048000,
      "implicitDf": true,
      "rowLimit": 10000
     },
     "inputWidgets": {},
     "nuid": "1142186f-c53e-4d18-a679-f212c4fa0244",
     "showTitle": false,
     "tableResultSettingsMap": {},
     "title": ""
    }
   },
   "outputs": [],
   "source": [
    "%sql\n",
    "select * from demo.customers where join_date between '2025-05-01' and '2025-05-30';"
   ]
  },
  {
   "cell_type": "code",
   "execution_count": 0,
   "metadata": {
    "application/vnd.databricks.v1+cell": {
     "cellMetadata": {},
     "inputWidgets": {},
     "nuid": "5f9edd1c-1b54-41da-9964-f1da4c52776f",
     "showTitle": false,
     "tableResultSettingsMap": {},
     "title": ""
    }
   },
   "outputs": [],
   "source": []
  }
 ],
 "metadata": {
  "application/vnd.databricks.v1+notebook": {
   "computePreferences": null,
   "dashboards": [],
   "environmentMetadata": {
    "base_environment": "",
    "environment_version": "2"
   },
   "inputWidgetPreferences": null,
   "language": "python",
   "notebookMetadata": {
    "mostRecentlyExecutedCommandWithImplicitDF": {
     "commandId": 7168658707372959,
     "dataframes": [
      "_sqldf"
     ]
    },
    "pythonIndentUnit": 4
   },
   "notebookName": "data_analysis.ipynb",
   "widgets": {}
  },
  "language_info": {
   "name": "python"
  }
 },
 "nbformat": 4,
 "nbformat_minor": 0
}
