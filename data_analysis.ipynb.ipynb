{
 "cells": [
  {
   "cell_type": "code",
   "execution_count": 0,
   "metadata": {
    "application/vnd.databricks.v1+cell": {
     "cellMetadata": {
      "byteLimit": 2048000,
      "implicitDf": true,
      "rowLimit": 10000
     },
     "inputWidgets": {},
     "nuid": "33607f63-3c16-4bb9-b55a-1e38071cefdb",
     "showTitle": false,
     "tableResultSettingsMap": {},
     "title": ""
    }
   },
   "outputs": [],
   "source": [
    "%sql\n",
    "USE CATALOG databricks_training;\n",
    "USE SCHEMA demo;\n"
   ]
  },
  {
   "cell_type": "code",
   "execution_count": 0,
   "metadata": {
    "application/vnd.databricks.v1+cell": {
     "cellMetadata": {
      "byteLimit": 2048000,
      "rowLimit": 10000
     },
     "inputWidgets": {},
     "nuid": "1b50097b-c8d0-451f-a634-e6f1e41dc14a",
     "showTitle": false,
     "tableResultSettingsMap": {},
     "title": ""
    }
   },
   "outputs": [],
   "source": [
    "%python\n",
    "spark.version"
   ]
  },
  {
   "cell_type": "code",
   "execution_count": 0,
   "metadata": {
    "application/vnd.databricks.v1+cell": {
     "cellMetadata": {
      "byteLimit": 2048000,
      "rowLimit": 10000
     },
     "inputWidgets": {},
     "nuid": "e0295784-bdba-4460-b373-d53f70d1a9d9",
     "showTitle": false,
     "tableResultSettingsMap": {},
     "title": ""
    }
   },
   "outputs": [],
   "source": [
    "spark.sql(\"SHOW TABLES\").show()"
   ]
  },
  {
   "cell_type": "code",
   "execution_count": 0,
   "metadata": {
    "application/vnd.databricks.v1+cell": {
     "cellMetadata": {
      "byteLimit": 2048000,
      "rowLimit": 10000
     },
     "inputWidgets": {},
     "nuid": "eb2803fe-4565-44bd-852a-5edae20014ba",
     "showTitle": false,
     "tableResultSettingsMap": {},
     "title": ""
    }
   },
   "outputs": [],
   "source": [
    "customers = spark.table(\"demo.customers\")\n",
    "# customers.count()\n",
    "orders = spark.table(\"demo.orders\")\n",
    "products = spark.table(\"demo.products\")"
   ]
  },
  {
   "cell_type": "code",
   "execution_count": 0,
   "metadata": {
    "application/vnd.databricks.v1+cell": {
     "cellMetadata": {
      "byteLimit": 2048000,
      "implicitDf": true,
      "rowLimit": 10000
     },
     "inputWidgets": {},
     "nuid": "c6d09ad0-93f4-4820-b3a8-555eb22f3ef0",
     "showTitle": false,
     "tableResultSettingsMap": {},
     "title": ""
    }
   },
   "outputs": [],
   "source": [
    "from pyspark.sql.functions import col\n",
    "\n",
    "cust_df = spark.table(\"demo.customers\")\n",
    "\n",
    "display(cust_df)\n",
    "\n",
    "cust_df.createOrReplaceTempView(\"cust\")\n",
    "\n",
    "# customers with name\n",
    "\n",
    "cust_df.filter(\"name = 'Kathy Ross'\").show()\n",
    "cust_df.where(\"name = 'Kathy Ross'\").show()\n",
    "cust_df.filter(col(\"name\") == 'Kathy Ross').show()\n",
    "cust_df.where(col(\"name\") == 'Kathy Ross').show()\n",
    "spark.sql(\"select * from cust where name = 'Kathy Ross'\").show()\n",
    "\n",
    "# customers joined on a date\n",
    "\n",
    "cust_df.filter(\"join_date = '2025-05-29'\").show()\n",
    "cust_df.filter(col(\"join_date\") == '2025-05-29').show()\n",
    "cust_df.where(\"join_date = '2025-05-29'\").show()\n",
    "cust_df.where(col(\"join_date\") == '2025-05-29').show()\n",
    "spark.sql(\"select * from cust where join_date = '2025-05-29'\").show()\n",
    "\n",
    "# customers joined between dates\n",
    "\n",
    "cust_df.filter(col(\"join_date\").between('2025-05-01','2025-05-30')).show()\n",
    "cust_df.where(col(\"join_date\").between('2025-05-01','2025-05-30')).show()\n",
    "cust_df.filter(\"join_date between '2025-05-01' and '2025-05-30'\").show()\n",
    "cust_df.where(\"join_date between '2025-05-01' and '2025-05-30'\").show()\n",
    "spark.sql(\"select * from cust where join_date between '2025-05-01' and '2025-05-30'\").show()\n",
    "\n",
    "\n"
   ]
  },
  {
   "cell_type": "code",
   "execution_count": 0,
   "metadata": {
    "application/vnd.databricks.v1+cell": {
     "cellMetadata": {
      "byteLimit": 2048000,
      "rowLimit": 10000
     },
     "inputWidgets": {},
     "nuid": "5b5a0ba8-8928-475e-bf53-7e09e3a7dc3c",
     "showTitle": false,
     "tableResultSettingsMap": {},
     "title": ""
    }
   },
   "outputs": [],
   "source": [
    "orders_df = spark.table(\"demo.orders\")\n",
    "\n",
    "# display(orders_df)\n",
    "\n",
    "orders_df.createOrReplaceTempView(\"orders\")\n",
    "\n",
    "# multiple filters with and, or and not clauses\n",
    "\n",
    "# orders_df.filter((col(\"total_amount\") > 100) & (col(\"total_amount\") < 200)).show()\n",
    "\n",
    "# orders_df.where(\"total_amount > 150 and total_amount < 200\").show()\n",
    "# orders_df.where(\"total_amount >= 150 and total_amount <= 200 and order_date = '2025-05-20'\").show()\n",
    "# orders_df.filter((col(\"total_amount\") >= 150) & (col(\"total_amount\") <= 200) & (col(\"order_date\") == '2025-05-20')).show()\n",
    "\n",
    "# orders_df.filter((col(\"total_amount\") == 150.98) & (col(\"quantity\") != 1)).show()\n",
    "# orders_df.where(\"total_amount = 150.98 and quantity <> 1\").show()\n",
    "\n",
    "# orders_df.where(\"total_amount = 150.98 or quantity <> 1\").show()\n",
    "\n",
    "# orders_df.where((col(\"quantity\") != 1) & (col(\"total_amount\") >= 2000)).show()\n",
    "\n",
    "# orders_df.filter((col(\"order_date\").between('2025-05-29','2025-05-30'))).show()\n",
    "\n",
    "# orders_df.where(\"order_date between '2025-05-29' and '2025-05-30'\").show()\n",
    "\n"
   ]
  },
  {
   "cell_type": "code",
   "execution_count": 0,
   "metadata": {
    "application/vnd.databricks.v1+cell": {
     "cellMetadata": {
      "byteLimit": 2048000,
      "rowLimit": 10000
     },
     "inputWidgets": {},
     "nuid": "60790098-3dc3-4a49-9156-a618e41d9cc0",
     "showTitle": false,
     "tableResultSettingsMap": {},
     "title": ""
    }
   },
   "outputs": [],
   "source": [
    "# Null check\n",
    "\n",
    "# orders_df.filter((col(\"total_amount\").isNotNull())).show()\n",
    "# orders_df.filter((col(\"total_amount\").isNull()) & (col(\"quantity\") >= 1)).show()\n",
    "# orders_df.filter((col(\"total_amount\").isNotNull()) & (col(\"quantity\") >= 1)).show()\n",
    "\n",
    "# orders_df.where(\"total_amount is not null and quantity >= 1\").show()\n"
   ]
  },
  {
   "cell_type": "code",
   "execution_count": 0,
   "metadata": {
    "application/vnd.databricks.v1+cell": {
     "cellMetadata": {
      "byteLimit": 2048000,
      "rowLimit": 10000
     },
     "inputWidgets": {},
     "nuid": "3a329132-d45f-40ce-b1f5-244285236972",
     "showTitle": false,
     "tableResultSettingsMap": {},
     "title": ""
    }
   },
   "outputs": [],
   "source": [
    "# In clause\n",
    "\n",
    "# orders_df.filter((col(\"product_id\").isin('PROD01','PROD02'))).show()\n",
    "# orders_df.where(\"product_id in ('PROD01','PROD02')\").show(10,truncate = True)\n",
    "\n"
   ]
  },
  {
   "cell_type": "code",
   "execution_count": 0,
   "metadata": {
    "application/vnd.databricks.v1+cell": {
     "cellMetadata": {
      "byteLimit": 2048000,
      "rowLimit": 10000
     },
     "inputWidgets": {},
     "nuid": "e8f07476-c9b8-4669-bb15-8890718caf89",
     "showTitle": false,
     "tableResultSettingsMap": {},
     "title": ""
    }
   },
   "outputs": [],
   "source": [
    "# cust_df.filter((col(\"name\").contains('Megan'))).show()\n",
    "# cust_df.where(\"name like '%Megan%'\").show()\n",
    "\n",
    "cust_df.filter((col(\"name\").startswith('E'))).filter((col(\"name\").endswith('a'))).show()\n",
    "cust_df.filter((col(\"name\").endswith('a'))).show()\n",
    "\n"
   ]
  },
  {
   "cell_type": "code",
   "execution_count": 0,
   "metadata": {
    "application/vnd.databricks.v1+cell": {
     "cellMetadata": {
      "byteLimit": 2048000,
      "implicitDf": true,
      "rowLimit": 10000
     },
     "inputWidgets": {},
     "nuid": "1142186f-c53e-4d18-a679-f212c4fa0244",
     "showTitle": false,
     "tableResultSettingsMap": {},
     "title": ""
    }
   },
   "outputs": [],
   "source": [
    "%sql\n",
    "select * from demo.customers where join_date between '2025-05-01' and '2025-05-30';"
   ]
  },
  {
   "cell_type": "code",
   "execution_count": 0,
   "metadata": {
    "application/vnd.databricks.v1+cell": {
     "cellMetadata": {},
     "inputWidgets": {},
     "nuid": "5f9edd1c-1b54-41da-9964-f1da4c52776f",
     "showTitle": false,
     "tableResultSettingsMap": {},
     "title": ""
    }
   },
   "outputs": [],
   "source": []
  }
 ],
 "metadata": {
  "application/vnd.databricks.v1+notebook": {
   "computePreferences": null,
   "dashboards": [],
   "environmentMetadata": {
    "base_environment": "",
    "environment_version": "2"
   },
   "inputWidgetPreferences": null,
   "language": "python",
   "notebookMetadata": {
    "mostRecentlyExecutedCommandWithImplicitDF": {
     "commandId": 7168658707372959,
     "dataframes": [
      "_sqldf"
     ]
    },
    "pythonIndentUnit": 4
   },
   "notebookName": "data_analysis.ipynb",
   "widgets": {}
  },
  "language_info": {
   "name": "python"
  }
 },
 "nbformat": 4,
 "nbformat_minor": 0
}
